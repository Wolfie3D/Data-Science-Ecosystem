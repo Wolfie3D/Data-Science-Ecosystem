{
 "cells": [
  {
   "attachments": {},
   "cell_type": "markdown",
   "id": "d683408b-91d0-4d64-bea9-2ba037854d9d",
   "metadata": {},
   "source": [
    "# Data Science Tools and Ecosystem"
   ]
  },
  {
   "attachments": {},
   "cell_type": "markdown",
   "id": "6f2462b5-eabe-494e-8c29-cd42c7357d76",
   "metadata": {},
   "source": [
    "In this notebook, Data Science Tools and Ecosystem are summarized."
   ]
  },
  {
   "attachments": {},
   "cell_type": "markdown",
   "id": "ec69fd75-3c39-4879-b600-821a28096bfd",
   "metadata": {},
   "source": [
    "**Objectives:**\n",
    "\n",
    "- List popular languages for Data Science.\n",
    "- Identify commonly used libraries in Data Science.\n",
    "- Explore Data Science tools and ecosystem.\n",
    "- Evaluate arithmetic expressions in Python."
   ]
  },
  {
   "attachments": {},
   "cell_type": "markdown",
   "id": "831eb7d2-2549-4ce4-ba9a-8f672e24fb9a",
   "metadata": {},
   "source": [
    "Some of the popular languages that Data Scientists use are:\n",
    "1. Python \n",
    "2. R Language\n",
    "3. Java\n",
    "4. Julia\n",
    "5. Javascript \n",
    "6. C++"
   ]
  },
  {
   "attachments": {},
   "cell_type": "markdown",
   "id": "b72a4918-c40f-445b-a4bf-d5a3d084b47e",
   "metadata": {},
   "source": [
    "Some of the commonly used libraries used by Data Scientists include:\n",
    "1. TensorFlow.\n",
    "2. NumPy.\n",
    "3. SciPy.\n",
    "4. Pandas.\n",
    "5. Matplotlib.\n",
    "6. Keras.\n",
    "7. SciKit-Learn.\n",
    "8. PyTorch."
   ]
  },
  {
   "attachments": {},
   "cell_type": "markdown",
   "id": "ac6d90a4-f720-4c3b-9c97-e08d96f0e4b8",
   "metadata": {},
   "source": [
    "| Data Science Tools |\n",
    "| ----------------- |\n",
    "| Jupyter Notebook  |\n",
    "| RStudio           |\n",
    "| Anaconda          |\n"
   ]
  },
  {
   "attachments": {},
   "cell_type": "markdown",
   "id": "8a27340e-4bfa-4083-bc54-e649bfdf97b3",
   "metadata": {},
   "source": [
    "### Below are a few examples of evaluating arithmetic expressions in Python."
   ]
  },
  {
   "cell_type": "code",
   "execution_count": 3,
   "id": "aabb0af3-ba4b-45cf-a0a1-290c4119b724",
   "metadata": {
    "tags": []
   },
   "outputs": [
    {
     "data": {
      "text/plain": [
       "17"
      ]
     },
     "execution_count": 3,
     "metadata": {},
     "output_type": "execute_result"
    }
   ],
   "source": [
    "# This a simple arithmetic expression to mutiply then add integers\n",
    "(3*4)+5"
   ]
  },
  {
   "cell_type": "code",
   "execution_count": 4,
   "id": "509e3fb2-3e0a-4b8c-ae52-60b76199da50",
   "metadata": {
    "tags": []
   },
   "outputs": [
    {
     "data": {
      "text/plain": [
       "3.3333333333333335"
      ]
     },
     "execution_count": 4,
     "metadata": {},
     "output_type": "execute_result"
    }
   ],
   "source": [
    "# This will convert 200 minutes to hours by diving by 60.\n",
    "200/60"
   ]
  },
  {
   "attachments": {},
   "cell_type": "markdown",
   "id": "31f1e057-392a-45b5-bd94-db9f576018fc",
   "metadata": {},
   "source": [
    "## Author\n",
    "\n",
    "Chris Kamau Wangechi"
   ]
  },
  {
   "cell_type": "code",
   "execution_count": null,
   "id": "db617d24-cf33-4444-93c5-4da48e7e9752",
   "metadata": {},
   "outputs": [],
   "source": []
  }
 ],
 "metadata": {
  "kernelspec": {
   "display_name": "Python 3",
   "language": "python",
   "name": "python3"
  },
  "language_info": {
   "codemirror_mode": {
    "name": "ipython",
    "version": 3
   },
   "file_extension": ".py",
   "mimetype": "text/x-python",
   "name": "python",
   "nbconvert_exporter": "python",
   "pygments_lexer": "ipython3",
   "version": "3.10.6"
  }
 },
 "nbformat": 4,
 "nbformat_minor": 5
}
